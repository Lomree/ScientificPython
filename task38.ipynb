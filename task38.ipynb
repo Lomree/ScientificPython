{
 "cells": [
  {
   "cell_type": "code",
   "execution_count": 1,
   "metadata": {},
   "outputs": [],
   "source": [
    "import numpy as np\n",
    "import matplotlib.pyplot as plt\n",
    "import seaborn as sns\n",
    "from scipy import optimize\n"
   ]
  },
  {
   "cell_type": "code",
   "execution_count": 2,
   "metadata": {},
   "outputs": [],
   "source": [
    "PV = 100000  # Сумма кредита\n",
    "FV = 0  # Остаток после всех платежей\n",
    "m = 12  # Платежей в год\n",
    "\n",
    "# Массив с тремя случаями\n",
    "# (ежемесячный платеж, кол-во лет)\n",
    "cases = [\n",
    "    (-1500, 10,),\n",
    "    (-1250, 15,),\n",
    "    (-1160, 20,)\n",
    "]\n"
   ]
  },
  {
   "cell_type": "code",
   "execution_count": 3,
   "metadata": {},
   "outputs": [],
   "source": [
    "def solve_i(PV, FV, PMT, n):\n",
    "    def payment_func(i):\n",
    "        t = (1 + i)**n\n",
    "        return PV*t + PMT * (t - 1) / i + FV  # основное финансовое уравнение\n",
    "    # вызываем brentq и ищем i в диапазоне от 0,1% до 100%\n",
    "    return optimize.brentq(payment_func, 0.001, 1)\n"
   ]
  },
  {
   "cell_type": "code",
   "execution_count": 4,
   "metadata": {},
   "outputs": [
    {
     "name": "stdout",
     "output_type": "stream",
     "text": [
      "Случай 1\n",
      "i = 0.010930603939676818\n",
      "i_y= 0.1311672472761218\n",
      "\n",
      "Случай 2\n",
      "i = 0.010639807179010464\n",
      "i_y= 0.12767768614812558\n",
      "\n",
      "Случай 3\n",
      "i = 0.01069769879297446\n",
      "i_y= 0.12837238551569352\n",
      "\n"
     ]
    }
   ],
   "source": [
    "i_min = 1  # 100%, максимальное число, будем сюда искать минимальную ставку\n",
    "best_case = -1\n",
    "\n",
    "for idx, c in enumerate(cases):\n",
    "    PMT = c[0]  # ежемесячный платеж\n",
    "    n = c[1] * 12  # кол-во платежей\n",
    "\n",
    "    i = solve_i(PV, FV, PMT, n)\n",
    "    i_min = min(i, i_min)\n",
    "    if i_min == i:\n",
    "        best_case = idx\n",
    "\n",
    "    print(\"Случай\", idx + 1)\n",
    "    print(\"i =\", i)\n",
    "    print(\"i_y=\", i * m)\n",
    "    print()\n"
   ]
  },
  {
   "cell_type": "code",
   "execution_count": 5,
   "metadata": {},
   "outputs": [
    {
     "name": "stdout",
     "output_type": "stream",
     "text": [
      "Лучший вариант:\n",
      "№2\n",
      "i = 0.010639807179010464\n"
     ]
    }
   ],
   "source": [
    "print(\"Лучший вариант:\")\n",
    "print(\"№\", best_case + 1, sep=\"\")\n",
    "print(\"i =\", i_min)\n"
   ]
  }
 ],
 "metadata": {
  "kernelspec": {
   "display_name": "Python 3",
   "language": "python",
   "name": "python3"
  },
  "language_info": {
   "codemirror_mode": {
    "name": "ipython",
    "version": 3
   },
   "file_extension": ".py",
   "mimetype": "text/x-python",
   "name": "python",
   "nbconvert_exporter": "python",
   "pygments_lexer": "ipython3",
   "version": "3.10.6"
  },
  "orig_nbformat": 4
 },
 "nbformat": 4,
 "nbformat_minor": 2
}
